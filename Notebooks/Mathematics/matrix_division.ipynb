{
 "cells": [
  {
   "cell_type": "code",
   "execution_count": 1,
   "id": "61f9c373-c2ea-4b9f-84fb-7c7d102200e2",
   "metadata": {},
   "outputs": [],
   "source": [
    "import numpy as np\n",
    "import numpy.linalg as la"
   ]
  },
  {
   "cell_type": "raw",
   "id": "2b8a3fe7-61ab-4b49-8008-f2baa17771cc",
   "metadata": {},
   "source": [
    "Required:\n",
    "    1. The divisor matrix is square\n",
    "    2. The matrices must be able to be multipled together (#cols in first matrix = #Rows in the divisor matrix\n",
    "    3. Determinant of divisor must be non-zero"
   ]
  },
  {
   "cell_type": "code",
   "execution_count": 3,
   "id": "5f119a77-0cd5-4833-8e64-1e85534f11b1",
   "metadata": {},
   "outputs": [
    {
     "name": "stdout",
     "output_type": "stream",
     "text": [
      "-2\n"
     ]
    }
   ],
   "source": [
    "#Generate two 2x2 matrices A, B\n",
    "#So 1 & 2 are met: divisor is square and #cols A = #rows B\n",
    "#Verify that determinant is non-zerro\n",
    "A = np.matrix([[1, 2],[3, 4]])\n",
    "B = np.matrix([[5, 6],[7, 8]])\n",
    "B_det = la.det(B)\n",
    "print(round(B_det,))"
   ]
  },
  {
   "cell_type": "raw",
   "id": "ab01f40d-a92b-4172-a527-192dfc516622",
   "metadata": {},
   "source": [
    "det = (5 x 8) - (7 x 6) = -2"
   ]
  },
  {
   "cell_type": "code",
   "execution_count": 4,
   "id": "b41980c5-e1bf-40e6-9457-bf9d00521823",
   "metadata": {},
   "outputs": [
    {
     "name": "stdout",
     "output_type": "stream",
     "text": [
      "[[-4.   3. ]\n",
      " [ 3.5 -2.5]]\n"
     ]
    }
   ],
   "source": [
    "#Invert matrix B\n",
    "B_inv = la.inv(B)\n",
    "print(B_inv)"
   ]
  },
  {
   "cell_type": "code",
   "execution_count": 5,
   "id": "4318f992-cc96-4a88-ba07-92f11dd2d7b6",
   "metadata": {},
   "outputs": [
    {
     "name": "stdout",
     "output_type": "stream",
     "text": [
      "[[1. 0.]\n",
      " [0. 1.]]\n"
     ]
    }
   ],
   "source": [
    "#For confirmation of inversion, B * B_inv should give identity matrix I\n",
    "print(B @ B_inv)"
   ]
  },
  {
   "cell_type": "code",
   "execution_count": 6,
   "id": "2df34541-02d0-4ae0-ba36-4e123a1033c8",
   "metadata": {},
   "outputs": [
    {
     "name": "stdout",
     "output_type": "stream",
     "text": [
      "[[ 5.  4.]\n",
      " [-4. -3.]]\n",
      "[[ 3. -2.]\n",
      " [ 2. -1.]]\n"
     ]
    }
   ],
   "source": [
    "#Multiply them to complete the operation\n",
    "#There may be two solution so obtain both\n",
    "print(B_inv @ A)\n",
    "print(A @ B_inv)"
   ]
  }
 ],
 "metadata": {
  "kernelspec": {
   "display_name": "Python 3 (ipykernel)",
   "language": "python",
   "name": "python3"
  },
  "language_info": {
   "codemirror_mode": {
    "name": "ipython",
    "version": 3
   },
   "file_extension": ".py",
   "mimetype": "text/x-python",
   "name": "python",
   "nbconvert_exporter": "python",
   "pygments_lexer": "ipython3",
   "version": "3.12.3"
  }
 },
 "nbformat": 4,
 "nbformat_minor": 5
}
