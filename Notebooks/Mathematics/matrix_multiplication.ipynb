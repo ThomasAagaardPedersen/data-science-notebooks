{
 "cells": [
  {
   "cell_type": "code",
   "execution_count": 1,
   "id": "a1905d9f-b286-401c-940e-0834882d63b6",
   "metadata": {},
   "outputs": [],
   "source": [
    "import numpy as np"
   ]
  },
  {
   "cell_type": "raw",
   "id": "8a909e2b-cc22-4da7-b360-74a5e48f5b05",
   "metadata": {},
   "source": [
    "Required: #Cols first matrix = #Rows in second matrix\n",
    "A, B both 2x2\n",
    "C will have A rows, B cols"
   ]
  },
  {
   "cell_type": "code",
   "execution_count": 3,
   "id": "9a9aa2ff-6b70-458d-b791-ccaa133250d4",
   "metadata": {},
   "outputs": [
    {
     "name": "stdout",
     "output_type": "stream",
     "text": [
      "[[19 22]\n",
      " [43 50]]\n"
     ]
    }
   ],
   "source": [
    "#Generate two 2x2 matrices A, B\n",
    "#Resultant C will have A rows and B cols\n",
    "#Therefore C has 2 rows and 2 cols\n",
    "A = np.matrix([[1, 2], [3,4]])\n",
    "B = np.matrix([[5, 6], [7,8]])\n",
    "C = A * B\n",
    "print(C)"
   ]
  },
  {
   "cell_type": "code",
   "execution_count": 5,
   "id": "4d239552-f3ff-4c32-bc95-f7668266164b",
   "metadata": {},
   "outputs": [
    {
     "name": "stdout",
     "output_type": "stream",
     "text": [
      "[[17]\n",
      " [39]]\n"
     ]
    }
   ],
   "source": [
    "#Generate a 2x2 matrix A and a vector X\n",
    "#Resultant C will have A rows and x cols\n",
    "#Therefore C has 2 rows and 1 cols\n",
    "A = np.matrix([[1, 2], [3,4]])\n",
    "x = np.matrix([[5], [6]])\n",
    "C = A * x\n",
    "print(C)"
   ]
  },
  {
   "cell_type": "raw",
   "id": "7b85595a-b9c7-468f-8ede-1e6a80f0d095",
   "metadata": {},
   "source": [
    "Imagine flipping the B matrix on top of A\n",
    "So B rows lays on top of the A coloumns."
   ]
  }
 ],
 "metadata": {
  "kernelspec": {
   "display_name": "Python 3 (ipykernel)",
   "language": "python",
   "name": "python3"
  },
  "language_info": {
   "codemirror_mode": {
    "name": "ipython",
    "version": 3
   },
   "file_extension": ".py",
   "mimetype": "text/x-python",
   "name": "python",
   "nbconvert_exporter": "python",
   "pygments_lexer": "ipython3",
   "version": "3.12.3"
  }
 },
 "nbformat": 4,
 "nbformat_minor": 5
}
